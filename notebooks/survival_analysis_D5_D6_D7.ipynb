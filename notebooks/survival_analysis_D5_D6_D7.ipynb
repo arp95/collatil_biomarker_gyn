{
 "cells": [
  {
   "cell_type": "code",
   "execution_count": 14,
   "id": "711e0b25",
   "metadata": {},
   "outputs": [
    {
     "name": "stdout",
     "output_type": "stream",
     "text": [
      "Header files loaded!\n"
     ]
    }
   ],
   "source": [
    "# header files\n",
    "# please note that in this notebook we are performing survival analysis using 'sksurv' package on the D5, D6, D7 cohorts\n",
    "# D5, D6, D7 cohorts - Endometrial, Cervix and Ovarian cancer, pretreatment scans treated with immunotherapy after surgery\n",
    "%matplotlib inline\n",
    "import glob\n",
    "import csv\n",
    "import numpy as np\n",
    "import pandas as pd\n",
    "from sksurv.nonparametric import kaplan_meier_estimator\n",
    "from sksurv.linear_model import CoxnetSurvivalAnalysis\n",
    "from sksurv.linear_model import CoxPHSurvivalAnalysis\n",
    "from sksurv.ensemble import RandomSurvivalForest\n",
    "from sksurv.svm import HingeLossSurvivalSVM\n",
    "from sksurv.metrics import (\n",
    "    concordance_index_censored,\n",
    "    concordance_index_ipcw,\n",
    "    cumulative_dynamic_auc,\n",
    "    integrated_brier_score,\n",
    ")\n",
    "from sklearn.preprocessing import StandardScaler, MinMaxScaler, RobustScaler\n",
    "import matplotlib.pyplot as plt\n",
    "plt.rcParams['figure.figsize'] = [4, 4]\n",
    "print(\"Header files loaded!\")"
   ]
  },
  {
   "cell_type": "code",
   "execution_count": 15,
   "id": "5047588e",
   "metadata": {},
   "outputs": [
    {
     "name": "stdout",
     "output_type": "stream",
     "text": [
      "['Patient ID', 'Data split', 'Organ', 'Site', 'Treatment', 'Vital status', 'Feature 1(TIL)', 'Feature 2(TIL)', 'Feature 3(TIL)', 'Feature 4(TIL)', 'Feature 5(TIL)', 'Feature 6(TIL)', 'Feature 7(TIL)', 'Feature 8(Collagen)', 'Feature 9(Collagen)', 'Feature 10(Collagen)', 'Feature 11(Collagen)', 'Feature 12(Collagen)', 'Feature 13(Collagen)', 'Feature 14(Collagen)', 'Feature 15(Collagen)', 'Feature 16(Collagen)', 'Feature 17(Collagen)', 'Feature 18(Collagen)', 'Feature 19(Collagen)', 'Feature 20(Collagen)', 'Feature 21(Collagen)', 'Feature 22(Collagen)', 'Feature 23(Collagen)', 'Feature 24(Collagen)', 'Feature 25(Collagen)', 'Feature 26(Collagen)', 'Feature 27(Collagen)', 'Feature 28(Collagen)', 'Feature 29(Collagen)', 'Feature 30(Collagen)', 'Feature 31(Collagen)', 'Feature 32(Collagen)', 'Feature 33(Collagen)', 'Feature 34(Collagen)', 'OS', 'OS_event', 'PFS', 'PFS_event', 'Age', 'Stage', 'Tumor grade', 'Risk score', 'Binary risk score']\n",
      "95\n",
      "95\n",
      "95\n",
      "95\n"
     ]
    }
   ],
   "source": [
    "# training: 95 TCGA ovarian cancer cases treated with chemotherapy \n",
    "# this block consists of four variables: train_features, train_y, train_event, train_survival_time loaded from data.csv\n",
    "# train_features: 34 features used, combination of collagen and til\n",
    "# train_y: each value in the array is (event, survival_time) where event is 'True' (if death or reccurence occured) or 'False' (no event occured) and survival time is the time from disease being diagnosed to event\n",
    "# train_event: event is 'True' (if death or reccurence occured) or 'False' (no event occured)\n",
    "# train_survival_time: survival time is the time from disease being diagnosed to event\n",
    "train_features = []\n",
    "train_y = []\n",
    "train_event = []\n",
    "train_survival_time = []\n",
    "\n",
    "flag = -1\n",
    "with open(\"../data/data.csv\", newline='', encoding = \"ISO-8859-1\") as csvfile:\n",
    "    spamreader = csv.reader(csvfile)\n",
    "    for row in spamreader:\n",
    "        if flag == -1:\n",
    "            flag = 1\n",
    "            print(row)\n",
    "        else:\n",
    "            array = row\n",
    "            if array[1] == \"Train\":\n",
    "                f = []\n",
    "                for index in range(6, 40):\n",
    "                    f.append(float(array[index]))\n",
    "                train_features.append(f)\n",
    "                \n",
    "                event = False\n",
    "                if array[41] == \"TRUE\" or array[41] == \"True\" or array[41] == \"true\":\n",
    "                    event = True\n",
    "                train_y.append([event, float(array[40])])\n",
    "                train_event.append(event)\n",
    "                train_survival_time.append(float(array[40]))\n",
    "print(len(train_features))\n",
    "print(len(train_y))\n",
    "print(len(train_event))\n",
    "print(len(train_survival_time))"
   ]
  },
  {
   "cell_type": "code",
   "execution_count": 16,
   "id": "8fb55c91",
   "metadata": {},
   "outputs": [],
   "source": [
    "# this block basically converts the four variables created in previous block to numpy arrays \n",
    "# which will be used for training the model\n",
    "train_features = np.array(train_features)\n",
    "train_y = np.array(train_y)\n",
    "train_event = np.array(train_event)\n",
    "train_survival_time = np.array(train_survival_time)"
   ]
  },
  {
   "cell_type": "code",
   "execution_count": 17,
   "id": "1225e368",
   "metadata": {},
   "outputs": [
    {
     "name": "stdout",
     "output_type": "stream",
     "text": [
      "['Patient ID', 'Data split', 'Organ', 'Site', 'Treatment', 'Vital status', 'Feature 1(TIL)', 'Feature 2(TIL)', 'Feature 3(TIL)', 'Feature 4(TIL)', 'Feature 5(TIL)', 'Feature 6(TIL)', 'Feature 7(TIL)', 'Feature 8(Collagen)', 'Feature 9(Collagen)', 'Feature 10(Collagen)', 'Feature 11(Collagen)', 'Feature 12(Collagen)', 'Feature 13(Collagen)', 'Feature 14(Collagen)', 'Feature 15(Collagen)', 'Feature 16(Collagen)', 'Feature 17(Collagen)', 'Feature 18(Collagen)', 'Feature 19(Collagen)', 'Feature 20(Collagen)', 'Feature 21(Collagen)', 'Feature 22(Collagen)', 'Feature 23(Collagen)', 'Feature 24(Collagen)', 'Feature 25(Collagen)', 'Feature 26(Collagen)', 'Feature 27(Collagen)', 'Feature 28(Collagen)', 'Feature 29(Collagen)', 'Feature 30(Collagen)', 'Feature 31(Collagen)', 'Feature 32(Collagen)', 'Feature 33(Collagen)', 'Feature 34(Collagen)', 'OS', 'OS_event', 'PFS', 'PFS_event', 'Age', 'Stage', 'Tumor grade', 'Risk score', 'Binary risk score']\n",
      "48\n",
      "48\n",
      "48\n",
      "48\n",
      "48\n",
      "48\n",
      "48\n"
     ]
    }
   ],
   "source": [
    "# validation: 48 CCF cases treated with immunotherapy after surgery\n",
    "# this block consists of four variables: train_features, train_y, train_event, train_survival_time loaded from data.csv\n",
    "# train_features: 34 features used, combination of collagen and til\n",
    "# train_y: each value in the array is (event, survival_time) where event is 'True' (if death or reccurence occured) or 'False' (no event occured) and survival time is the time from disease being diagnosed to event\n",
    "# train_event: event is 'True' (if death or reccurence occured) or 'False' (no event occured)\n",
    "# train_survival_time: survival time is the time from disease being diagnosed to event\n",
    "test_features = []\n",
    "test_y = []\n",
    "test_event = []\n",
    "test_survival_time = []\n",
    "test_clinical_var_age = []\n",
    "test_clinical_var_stage = []\n",
    "test_clinical_var_grade = []\n",
    "\n",
    "flag = -1\n",
    "with open(\"../data/data.csv\", newline='', encoding = \"ISO-8859-1\") as csvfile:\n",
    "    spamreader = csv.reader(csvfile)\n",
    "    for row in spamreader:\n",
    "        if flag == -1:\n",
    "            flag = 1\n",
    "            print(row)\n",
    "        else:\n",
    "            array = row\n",
    "            if array[1] == \"Validation\" and array[3] == \"CCF\" and array[4] == \"Immunotherapy\":\n",
    "                f = []\n",
    "                for index in range(6, 40):\n",
    "                    f.append(float(array[index]))\n",
    "                test_features.append(f)\n",
    "                \n",
    "                event = False\n",
    "                if array[43] == \"TRUE\" or array[43] == \"True\" or array[43] == \"true\":\n",
    "                    event = True\n",
    "                test_y.append([event, float(array[42])])\n",
    "                test_event.append(event)\n",
    "                test_survival_time.append(float(array[42]))\n",
    "                test_clinical_var_age.append(float(array[44]))\n",
    "                test_clinical_var_stage.append(float(array[45]))\n",
    "                test_clinical_var_grade.append(float(array[46]))\n",
    "print(len(test_features))\n",
    "print(len(test_y))\n",
    "print(len(test_event))\n",
    "print(len(test_survival_time))\n",
    "print(len(test_clinical_var_age))\n",
    "print(len(test_clinical_var_stage))\n",
    "print(len(test_clinical_var_grade))"
   ]
  },
  {
   "cell_type": "code",
   "execution_count": 18,
   "id": "46712e99",
   "metadata": {},
   "outputs": [],
   "source": [
    "t = []\n",
    "for index in range(0, len(test_clinical_var_grade)):\n",
    "    if test_clinical_var_grade[index] == 0.0 or test_clinical_var_grade[index] == 1.0:\n",
    "        t.append(0)\n",
    "    else:\n",
    "        t.append(1)"
   ]
  },
  {
   "cell_type": "code",
   "execution_count": 19,
   "id": "d81d3f46",
   "metadata": {},
   "outputs": [
    {
     "name": "stdout",
     "output_type": "stream",
     "text": [
      "0; 1; 1; 1; 1; 1; 1; 1; 1; 0; 1; 0; 1; 1; 1; 1; 0; 1; 1; 1; 1; 1; 1; 1; 1; 0; 1; 0; 0; 1; 1; 0; 0; 1; 1; 1; 1; 1; 1; 1; 1; 1; 1; 1; 1; 1; 1; 1\n"
     ]
    }
   ],
   "source": [
    "print(*t, sep=\"; \")"
   ]
  },
  {
   "cell_type": "code",
   "execution_count": 20,
   "id": "6509b83b",
   "metadata": {},
   "outputs": [
    {
     "name": "stdout",
     "output_type": "stream",
     "text": [
      "13\n"
     ]
    }
   ],
   "source": [
    "count = 0\n",
    "for index in range(0, len(test_clinical_var_stage)):\n",
    "    if test_clinical_var_stage[index] == 1.0:\n",
    "        count += 1\n",
    "print(count)"
   ]
  },
  {
   "cell_type": "code",
   "execution_count": 21,
   "id": "1f8201aa",
   "metadata": {},
   "outputs": [
    {
     "name": "stdout",
     "output_type": "stream",
     "text": [
      "13\n"
     ]
    }
   ],
   "source": [
    "count = 0\n",
    "for index in range(0, len(test_event)):\n",
    "    if test_event[index] == False:\n",
    "        count += 1\n",
    "print(count)"
   ]
  },
  {
   "cell_type": "code",
   "execution_count": 22,
   "id": "bce74237",
   "metadata": {},
   "outputs": [
    {
     "name": "stdout",
     "output_type": "stream",
     "text": [
      "11.960583412006102\n"
     ]
    }
   ],
   "source": [
    "print(np.std(test_clinical_var_age))"
   ]
  },
  {
   "cell_type": "code",
   "execution_count": 23,
   "id": "af4ffd1a",
   "metadata": {},
   "outputs": [
    {
     "name": "stdout",
     "output_type": "stream",
     "text": [
      "Test: 0.5756972111553785\n",
      "Train: 0.7264375637972099\n"
     ]
    }
   ],
   "source": [
    "# running survival model using the train and validation dataset defined above\n",
    "# this block has four major variables: train_group, train_risk_scores, group, test_risk_scores\n",
    "# train_group: binary risk score 1 or 0 for train dataset. 1: high risk group and 0: low risk group\n",
    "# test_group: binary risk score 1 or 0 for test dataset. 1: high risk group and 0: low risk group\n",
    "# train_risk_scores: risk scores for train dataset\n",
    "# test_risk_scores: risk scores for test dataset\n",
    "group = []\n",
    "train_group = []\n",
    "features_train = train_features\n",
    "features_test = test_features\n",
    "y_train = train_y\n",
    "event_train, survival_time_train = train_event, train_survival_time\n",
    "dt = dtype=[('Status', '?'), ('Survival_in_days', '<f8')]\n",
    "y_train = np.array([tuple(row) for row in y_train], dtype=dt)\n",
    "scaler = MinMaxScaler()\n",
    "features_train = scaler.fit_transform(features_train)\n",
    "features_test = scaler.transform(features_test)\n",
    "features_train_df = pd.DataFrame(features_train)\n",
    "features_test_df = pd.DataFrame(features_test)\n",
    "        \n",
    "\n",
    "estimator = CoxnetSurvivalAnalysis(l1_ratio=0.9, alpha_min_ratio=0.1)\n",
    "#estimator = CoxPHSurvivalAnalysis()\n",
    "estimator.fit(features_train_df, y_train)\n",
    "\n",
    "score, _, _, _, _ = concordance_index_censored(test_event, test_survival_time, estimator.predict(features_test_df))\n",
    "print(\"Test: \" + str(score))\n",
    "score, _, _, _, _ = concordance_index_censored(train_event, train_survival_time, estimator.predict(features_train_df))\n",
    "print(\"Train: \" + str(score))\n",
    "\n",
    "# get risk scores\n",
    "train_risk_scores = estimator.predict(features_train_df)\n",
    "test_risk_scores = estimator.predict(features_test_df)\n",
    "\n",
    "median = np.mean(train_risk_scores)\n",
    "count_low = 0\n",
    "count_high = 0\n",
    "for index in range(0, len(train_risk_scores)):\n",
    "    if train_risk_scores[index] > median:\n",
    "        count_high += 1\n",
    "        train_group.append(1)\n",
    "    else:\n",
    "        count_low += 1\n",
    "        train_group.append(0)\n",
    "\n",
    "count_low = 0\n",
    "count_high = 0\n",
    "for index in range(0, len(test_risk_scores)):\n",
    "    if test_risk_scores[index] > median:\n",
    "        count_high += 1\n",
    "        group.append(1)\n",
    "    else:\n",
    "        count_low += 1\n",
    "        group.append(0)"
   ]
  },
  {
   "cell_type": "markdown",
   "id": "af096b00",
   "metadata": {},
   "source": [
    "# RandomSurvivalForest\n",
    "group = []\n",
    "train_group = []\n",
    "features_train = train_features\n",
    "features_test = test_features\n",
    "y_train = train_y\n",
    "event_train, survival_time_train = train_event, train_survival_time\n",
    "dt = dtype=[('Status', '?'), ('Survival_in_days', '<f8')]\n",
    "y_train = np.array([tuple(row) for row in y_train], dtype=dt)\n",
    "scaler = MinMaxScaler()\n",
    "features_train = scaler.fit_transform(features_train)\n",
    "features_test = scaler.transform(features_test)\n",
    "features_train_df = pd.DataFrame(features_train)\n",
    "features_test_df = pd.DataFrame(features_test)\n",
    "\n",
    "estimator = RandomSurvivalForest(n_estimators=10).fit(features_train_df, y_train)\n",
    "score, _, _, _, _ = concordance_index_censored(test_event, test_survival_time, estimator.predict(features_test_df))\n",
    "print(\"Test: \" + str(score))\n",
    "score, _, _, _, _ = concordance_index_censored(train_event, train_survival_time, estimator.predict(features_train_df))\n",
    "print(\"Train: \" + str(score))\n",
    "\n",
    "train_risk_scores = estimator.predict(features_train_df)\n",
    "test_risk_scores = estimator.predict(features_test_df)\n",
    "\n",
    "median = np.mean(train_risk_scores)\n",
    "count_low = 0\n",
    "count_high = 0\n",
    "for index in range(0, len(train_risk_scores)):\n",
    "    if train_risk_scores[index] > median:\n",
    "        count_high += 1\n",
    "        train_group.append(1)\n",
    "    else:\n",
    "        count_low += 1\n",
    "        train_group.append(0)\n",
    "\n",
    "count_low = 0\n",
    "count_high = 0\n",
    "for index in range(0, len(test_risk_scores)):\n",
    "    if test_risk_scores[index] > median:\n",
    "        count_high += 1\n",
    "        group.append(1)\n",
    "    else:\n",
    "        count_low += 1\n",
    "        group.append(0)"
   ]
  },
  {
   "cell_type": "markdown",
   "id": "606f4f89",
   "metadata": {},
   "source": [
    "# HingeLossSurvivalSVM\n",
    "group = []\n",
    "train_group = []\n",
    "features_train = train_features\n",
    "features_test = test_features\n",
    "y_train = train_y\n",
    "event_train, survival_time_train = train_event, train_survival_time\n",
    "dt = dtype=[('Status', '?'), ('Survival_in_days', '<f8')]\n",
    "y_train = np.array([tuple(row) for row in y_train], dtype=dt)\n",
    "scaler = MinMaxScaler()\n",
    "features_train = scaler.fit_transform(features_train)\n",
    "features_test = scaler.transform(features_test)\n",
    "features_train_df = pd.DataFrame(features_train)\n",
    "features_test_df = pd.DataFrame(features_test)\n",
    "\n",
    "estimator = HingeLossSurvivalSVM().fit(features_train_df, y_train)\n",
    "score, _, _, _, _ = concordance_index_censored(test_event, test_survival_time, estimator.predict(features_test_df))\n",
    "print(\"Test: \" + str(score))\n",
    "score, _, _, _, _ = concordance_index_censored(train_event, train_survival_time, estimator.predict(features_train_df))\n",
    "print(\"Train: \" + str(score))\n",
    "\n",
    "train_risk_scores = estimator.predict(features_train_df)\n",
    "test_risk_scores = estimator.predict(features_test_df)\n",
    "\n",
    "median = np.mean(train_risk_scores)\n",
    "count_low = 0\n",
    "count_high = 0\n",
    "for index in range(0, len(train_risk_scores)):\n",
    "    if train_risk_scores[index] > median:\n",
    "        count_high += 1\n",
    "        train_group.append(1)\n",
    "    else:\n",
    "        count_low += 1\n",
    "        train_group.append(0)\n",
    "\n",
    "count_low = 0\n",
    "count_high = 0\n",
    "for index in range(0, len(test_risk_scores)):\n",
    "    if test_risk_scores[index] > median:\n",
    "        count_high += 1\n",
    "        group.append(1)\n",
    "    else:\n",
    "        count_low += 1\n",
    "        group.append(0)"
   ]
  },
  {
   "cell_type": "code",
   "execution_count": 24,
   "id": "b7a572f1",
   "metadata": {},
   "outputs": [
    {
     "name": "stdout",
     "output_type": "stream",
     "text": [
      "1; 0; 0; 0; 1; 1; 1; 1; 1; 1; 0; 1; 1; 1; 1; 1; 0; 1; 1; 1; 0; 1; 1; 1; 1; 1; 0; 1; 1; 1; 0; 0; 1; 0; 1; 1; 1; 0; 0; 1; 1; 1; 1; 1; 1; 0; 1; 1\n",
      "84.0; 354.0; 84.0; 1221.0; 267.0; 360.0; 192.0; 60.0; 348.0; 267.0; 279.0; 267.0; 153.0; 117.0; 168.0; 60.0; 381.0; 66.0; 21.0; 129.0; 588.0; 81.0; 78.0; 123.0; 48.0; 387.0; 660.0; 90.0; 69.0; 84.0; 558.0; 471.0; 54.0; 645.0; 45.0; 87.0; 273.0; 780.0; 234.0; 180.0; 216.0; 78.0; 81.0; 159.0; 60.0; 687.0; 72.0; 498.0\n",
      "1; 0; 0; 0; 1; 1; 1; 1; 1; 1; 0; 0; 1; 1; 1; 1; 0; 1; 1; 1; 0; 1; 1; 1; 1; 1; 1; 1; 1; 0; 1; 0; 0; 1; 0; 1; 1; 0; 0; 1; 1; 0; 1; 0; 1; 1; 1; 1\n"
     ]
    }
   ],
   "source": [
    "# this block prints values for variables 'test_event', 'test_survival_time' and 'group' defined above\n",
    "# these values are used in the 'univariate.m' script to find the corresponding HR, p-values and 95% CI\n",
    "# univariate analysis: CollaTIL features\n",
    "a = []\n",
    "for index in range(0, len(test_event)):\n",
    "    if test_event[index] == False:\n",
    "        a.append(0)\n",
    "    else:\n",
    "        a.append(1)\n",
    "print(*a, sep=\"; \")\n",
    "\n",
    "print(*test_survival_time, sep=\"; \")\n",
    "\n",
    "print(*group, sep=\"; \")"
   ]
  },
  {
   "cell_type": "code",
   "execution_count": 25,
   "id": "82ba20e4",
   "metadata": {},
   "outputs": [
    {
     "name": "stdout",
     "output_type": "stream",
     "text": [
      "0; 0; 1; 1; 0; 0; 1; 1; 1; 0; 0; 0; 1; 1; 0; 1; 0; 1; 1; 1; 1; 0; 1; 0; 1; 0; 0; 1; 1; 1; 1; 1; 1; 1; 1; 0; 0; 0; 1; 1; 1; 1; 1; 1; 1; 1; 1; 1\n"
     ]
    }
   ],
   "source": [
    "t = []\n",
    "for index in range(0, len(test_clinical_var_stage)):\n",
    "    if test_clinical_var_stage[index] > 2:\n",
    "        t.append(1)\n",
    "    else:\n",
    "        t.append(0)\n",
    "print(*t, sep=\"; \")"
   ]
  },
  {
   "cell_type": "code",
   "execution_count": 26,
   "id": "decd803a",
   "metadata": {},
   "outputs": [
    {
     "name": "stdout",
     "output_type": "stream",
     "text": [
      "0 0.22206462793633197\n",
      "1 -0.08147010241846915\n",
      "2 0.4858650335897516\n",
      "4 -1.1089285491767151\n",
      "5 0.8914089361068985\n",
      "6 1.1052263119682961\n",
      "7 -0.4766343602255981\n",
      "9 -0.1369853017725905\n",
      "12 -0.10887558173143377\n",
      "17 -0.3948680778152415\n",
      "20 -0.9348001116567328\n",
      "23 0.9366083479474306\n",
      "30 0.6385060393592817\n",
      "33 -2.036242024932007\n",
      "\n",
      "Prognostic features count = 14\n"
     ]
    }
   ],
   "source": [
    "# this block prints the indexes of prognostic features found from the trained model\n",
    "# we will see the model finding 14 features, 6 from TIL and 8 from Collagen being predictive of OS\n",
    "count = 0\n",
    "for index1 in range(0, len(estimator.coef_)):\n",
    "    flag = -1\n",
    "    for index2 in range(99, 100):\n",
    "        if estimator.coef_[index1][index2] > 0 or estimator.coef_[index1][index2] < 0:\n",
    "            flag = 1\n",
    "            print(str(index1) + \" \" + str(estimator.coef_[index1][index2]))\n",
    "            break\n",
    "    if flag == 1:\n",
    "        count += 1\n",
    "print()\n",
    "print(\"Prognostic features count = \" + str(count))"
   ]
  },
  {
   "cell_type": "code",
   "execution_count": null,
   "id": "ff147e1e",
   "metadata": {},
   "outputs": [],
   "source": []
  },
  {
   "cell_type": "code",
   "execution_count": 27,
   "id": "0cf28014",
   "metadata": {},
   "outputs": [
    {
     "name": "stdout",
     "output_type": "stream",
     "text": [
      "1; 0; 0; 0; 1; 1; 1; 1; 1; 1; 0; 1; 1; 1; 1; 1; 0; 1; 1; 1; 0; 1; 1; 1; 1; 1; 0; 1; 1; 1; 0; 0; 1; 0; 1; 1; 1; 0; 0; 1; 1; 1; 1; 1; 1; 0; 1; 1\n",
      "84.0; 354.0; 84.0; 1221.0; 267.0; 360.0; 192.0; 60.0; 348.0; 267.0; 279.0; 267.0; 153.0; 117.0; 168.0; 60.0; 381.0; 66.0; 21.0; 129.0; 588.0; 81.0; 78.0; 123.0; 48.0; 387.0; 660.0; 90.0; 69.0; 84.0; 558.0; 471.0; 54.0; 645.0; 45.0; 87.0; 273.0; 780.0; 234.0; 180.0; 216.0; 78.0; 81.0; 159.0; 60.0; 687.0; 72.0; 498.0\n",
      "1; 1; 1; 1; 1; 0; 0; 1; 1; 1; 1; 1; 1; 1; 1; 1; 1; 1; 1; 1; 1; 1; 1; 1; 1; 1; 1; 0; 0; 0; 1; 1; 1; 0; 1; 0; 1; 0; 1; 0; 0; 0; 1; 1; 1; 1; 1; 1\n"
     ]
    }
   ],
   "source": [
    "# this block prints values for variables 'test_event', 'test_survival_time' and 'group' defined above\n",
    "# these values are used in the 'univariate.m' script to find the corresponding HR, p-values and 95% CI\n",
    "# univariate analysis: age\n",
    "a = []\n",
    "for index in range(0, len(test_event)):\n",
    "    if test_event[index] == False:\n",
    "        a.append(0)\n",
    "    else:\n",
    "        a.append(1)\n",
    "print(*a, sep=\"; \")\n",
    "\n",
    "print(*test_survival_time, sep=\"; \")\n",
    "\n",
    "g_1 = []\n",
    "for index in range(0, len(test_clinical_var_age)):\n",
    "    if test_clinical_var_age[index] > 60:\n",
    "        g_1.append(1)\n",
    "    else:\n",
    "        g_1.append(0)\n",
    "print(*g_1, sep=\"; \")"
   ]
  },
  {
   "cell_type": "code",
   "execution_count": null,
   "id": "0010b1b7",
   "metadata": {},
   "outputs": [],
   "source": []
  },
  {
   "cell_type": "code",
   "execution_count": 28,
   "id": "5d359a88",
   "metadata": {},
   "outputs": [
    {
     "name": "stdout",
     "output_type": "stream",
     "text": [
      "1; 0; 0; 0; 1; 1; 1; 1; 1; 1; 0; 1; 1; 1; 1; 1; 0; 1; 1; 1; 0; 1; 1; 1; 1; 1; 0; 1; 1; 1; 0; 0; 1; 0; 1; 1; 1; 0; 0; 1; 1; 1; 1; 1; 1; 0; 1; 1\n",
      "84.0; 354.0; 84.0; 1221.0; 267.0; 360.0; 192.0; 60.0; 348.0; 267.0; 279.0; 267.0; 153.0; 117.0; 168.0; 60.0; 381.0; 66.0; 21.0; 129.0; 588.0; 81.0; 78.0; 123.0; 48.0; 387.0; 660.0; 90.0; 69.0; 84.0; 558.0; 471.0; 54.0; 645.0; 45.0; 87.0; 273.0; 780.0; 234.0; 180.0; 216.0; 78.0; 81.0; 159.0; 60.0; 687.0; 72.0; 498.0\n",
      "0; 0; 1; 1; 0; 0; 1; 1; 1; 0; 0; 0; 1; 1; 0; 1; 0; 1; 1; 1; 1; 0; 1; 0; 1; 0; 0; 1; 1; 1; 1; 1; 1; 1; 1; 0; 0; 0; 1; 1; 1; 1; 1; 1; 1; 1; 1; 1\n"
     ]
    }
   ],
   "source": [
    "# this block prints values for variables 'test_event', 'test_survival_time' and 'group' defined above\n",
    "# these values are used in the 'univariate.m' script to find the corresponding HR, p-values and 95% CI\n",
    "# univariate analysis: stage\n",
    "a = []\n",
    "for index in range(0, len(test_event)):\n",
    "    if test_event[index] == False:\n",
    "        a.append(0)\n",
    "    else:\n",
    "        a.append(1)\n",
    "print(*a, sep=\"; \")\n",
    "\n",
    "print(*test_survival_time, sep=\"; \")\n",
    "\n",
    "g_2 = []\n",
    "for index in range(0, len(test_clinical_var_stage)):\n",
    "    if test_clinical_var_stage[index] == 1 or test_clinical_var_stage[index] == 2:\n",
    "        g_2.append(0)\n",
    "    else:\n",
    "        g_2.append(1)\n",
    "print(*g_2, sep=\"; \")"
   ]
  },
  {
   "cell_type": "code",
   "execution_count": null,
   "id": "078e5f3f",
   "metadata": {},
   "outputs": [],
   "source": []
  },
  {
   "cell_type": "code",
   "execution_count": 29,
   "id": "93be213b",
   "metadata": {},
   "outputs": [
    {
     "name": "stdout",
     "output_type": "stream",
     "text": [
      "1; 0; 0; 0; 1; 1; 1; 1; 1; 1; 0; 1; 1; 1; 1; 1; 0; 1; 1; 1; 0; 1; 1; 1; 1; 1; 0; 1; 1; 1; 0; 0; 1; 0; 1; 1; 1; 0; 0; 1; 1; 1; 1; 1; 1; 0; 1; 1\n",
      "84.0; 354.0; 84.0; 1221.0; 267.0; 360.0; 192.0; 60.0; 348.0; 267.0; 279.0; 267.0; 153.0; 117.0; 168.0; 60.0; 381.0; 66.0; 21.0; 129.0; 588.0; 81.0; 78.0; 123.0; 48.0; 387.0; 660.0; 90.0; 69.0; 84.0; 558.0; 471.0; 54.0; 645.0; 45.0; 87.0; 273.0; 780.0; 234.0; 180.0; 216.0; 78.0; 81.0; 159.0; 60.0; 687.0; 72.0; 498.0\n",
      "1; 1; 1; 1; 1; 1; 1; 1; 1; 1; 1; 1; 1; 1; 1; 1; 1; 1; 1; 1; 1; 1; 1; 1; 1; 1; 1; 0; 0; 1; 1; 0; 0; 1; 1; 1; 1; 1; 1; 1; 1; 1; 1; 1; 1; 1; 1; 1\n"
     ]
    }
   ],
   "source": [
    "# this block prints values for variables 'test_event', 'test_survival_time' and 'group' defined above\n",
    "# these values are used in the 'univariate.m' script to find the corresponding HR, p-values and 95% CI\n",
    "# univariate analysis: tumor grade\n",
    "a = []\n",
    "for index in range(0, len(test_event)):\n",
    "    if test_event[index] == False:\n",
    "        a.append(0)\n",
    "    else:\n",
    "        a.append(1)\n",
    "print(*a, sep=\"; \")\n",
    "\n",
    "print(*test_survival_time, sep=\"; \")\n",
    "\n",
    "g_3 = []\n",
    "for index in range(0, len(test_clinical_var_grade)):\n",
    "    if test_clinical_var_grade[index] >= 1:\n",
    "        g_3.append(1)\n",
    "    else:\n",
    "        g_3.append(0)\n",
    "print(*g_3, sep=\"; \")"
   ]
  },
  {
   "cell_type": "code",
   "execution_count": null,
   "id": "2f12d62a",
   "metadata": {},
   "outputs": [],
   "source": []
  },
  {
   "cell_type": "code",
   "execution_count": 30,
   "id": "6e1b3da9",
   "metadata": {},
   "outputs": [
    {
     "name": "stdout",
     "output_type": "stream",
     "text": [
      "1; 0; 0; 0; 1; 1; 1; 1; 1; 1; 0; 1; 1; 1; 1; 1; 0; 1; 1; 1; 0; 1; 1; 1; 1; 1; 0; 1; 1; 1; 0; 0; 1; 0; 1; 1; 1; 0; 0; 1; 1; 1; 1; 1; 1; 0; 1; 1\n",
      "84.0; 354.0; 84.0; 1221.0; 267.0; 360.0; 192.0; 60.0; 348.0; 267.0; 279.0; 267.0; 153.0; 117.0; 168.0; 60.0; 381.0; 66.0; 21.0; 129.0; 588.0; 81.0; 78.0; 123.0; 48.0; 387.0; 660.0; 90.0; 69.0; 84.0; 558.0; 471.0; 54.0; 645.0; 45.0; 87.0; 273.0; 780.0; 234.0; 180.0; 216.0; 78.0; 81.0; 159.0; 60.0; 687.0; 72.0; 498.0\n",
      "[1, 1.0, 1]; [1, 1.0, 0]; [1, 3.0, 0]; [1, 3.0, 0]; [1, 1.0, 1]; [0, 1.0, 1]; [0, 3.0, 1]; [1, 4.0, 1]; [1, 3.0, 1]; [1, 1.0, 1]; [1, 2.0, 0]; [1, 1.0, 0]; [1, 3.0, 1]; [1, 3.0, 1]; [1, 1.0, 1]; [1, 3.0, 1]; [1, 1.0, 0]; [1, 4.0, 1]; [1, 3.0, 1]; [1, 4.0, 1]; [1, 4.0, 0]; [1, 1.0, 1]; [1, 4.0, 1]; [1, 1.0, 1]; [1, 3.0, 1]; [1, 1.0, 1]; [1, 1.0, 1]; [0, 3.0, 1]; [0, 4.0, 1]; [0, 3.0, 0]; [1, 4.0, 1]; [1, 3.0, 0]; [1, 3.0, 0]; [0, 4.0, 1]; [1, 4.0, 0]; [0, 2.0, 1]; [1, 1.0, 1]; [0, 2.0, 0]; [1, 3.0, 0]; [0, 3.0, 1]; [0, 4.0, 1]; [0, 4.0, 0]; [1, 4.0, 1]; [1, 3.0, 0]; [1, 3.0, 1]; [1, 3.0, 1]; [1, 4.0, 1]; [1, 3.0, 1]\n"
     ]
    }
   ],
   "source": [
    "# this block prints values for variables 'test_event', 'test_survival_time' and 'group' defined above\n",
    "# these values are used in the 'univariate.m' script to find the corresponding HR, p-values and 95% CI\n",
    "# multivariable analysis - age, stage, collatil\n",
    "a = []\n",
    "for index in range(0, len(test_event)):\n",
    "    if test_event[index] == False:\n",
    "        a.append(0)\n",
    "    else:\n",
    "        a.append(1)\n",
    "print(*a, sep=\"; \")\n",
    "\n",
    "print(*test_survival_time, sep=\"; \")\n",
    "\n",
    "g_1 = []\n",
    "for index in range(0, len(test_clinical_var_age)):\n",
    "    if test_clinical_var_age[index] > 60:\n",
    "        g_1.append(1)\n",
    "    else:\n",
    "        g_1.append(0)\n",
    "g_2 = []\n",
    "for index in range(0, len(test_clinical_var_stage)):\n",
    "    if test_clinical_var_stage[index] == 1 or test_clinical_var_stage[index] == 2:\n",
    "        g_2.append(np.abs(test_clinical_var_stage[index]))\n",
    "    else:\n",
    "        g_2.append(np.abs(test_clinical_var_stage[index]))\n",
    "g = []\n",
    "for index in range(0, len(group)):\n",
    "    g.append([g_1[index], g_2[index], group[index]])\n",
    "print(*g, sep=\"; \")"
   ]
  },
  {
   "cell_type": "code",
   "execution_count": null,
   "id": "f32fb829",
   "metadata": {},
   "outputs": [],
   "source": []
  }
 ],
 "metadata": {
  "kernelspec": {
   "display_name": "Python 3",
   "language": "python",
   "name": "python3"
  },
  "language_info": {
   "codemirror_mode": {
    "name": "ipython",
    "version": 3
   },
   "file_extension": ".py",
   "mimetype": "text/x-python",
   "name": "python",
   "nbconvert_exporter": "python",
   "pygments_lexer": "ipython3",
   "version": "3.8.8"
  }
 },
 "nbformat": 4,
 "nbformat_minor": 5
}
