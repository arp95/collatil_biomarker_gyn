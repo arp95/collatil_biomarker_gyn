{
 "cells": [
  {
   "cell_type": "code",
   "execution_count": 1,
   "id": "711e0b25",
   "metadata": {},
   "outputs": [
    {
     "name": "stdout",
     "output_type": "stream",
     "text": [
      "Header files loaded!\n"
     ]
    }
   ],
   "source": [
    "# header files\n",
    "# please note that in this notebook we are performing survival analysis using 'sksurv' package on the D8 cohort\n",
    "# D8 cohort - Ovarian cancer, pretreatment scans treated with chemotherapy after surgery\n",
    "%matplotlib inline\n",
    "import glob\n",
    "import csv\n",
    "import numpy as np\n",
    "import pandas as pd\n",
    "from sksurv.nonparametric import kaplan_meier_estimator\n",
    "from sksurv.linear_model import CoxnetSurvivalAnalysis\n",
    "from sksurv.linear_model import CoxPHSurvivalAnalysis\n",
    "from sksurv.ensemble import RandomSurvivalForest\n",
    "from sksurv.svm import HingeLossSurvivalSVM\n",
    "from sksurv.metrics import (\n",
    "    concordance_index_censored,\n",
    "    concordance_index_ipcw,\n",
    "    cumulative_dynamic_auc,\n",
    "    integrated_brier_score,\n",
    ")\n",
    "from sklearn.preprocessing import StandardScaler, MinMaxScaler, RobustScaler\n",
    "import matplotlib.pyplot as plt\n",
    "plt.rcParams['figure.figsize'] = [4, 4]\n",
    "print(\"Header files loaded!\")"
   ]
  },
  {
   "cell_type": "code",
   "execution_count": 2,
   "id": "5047588e",
   "metadata": {},
   "outputs": [
    {
     "name": "stdout",
     "output_type": "stream",
     "text": [
      "['Patient ID', 'Data split', 'Organ', 'Site', 'Treatment', 'Vital status', 'Feature 1(TIL)', 'Feature 2(TIL)', 'Feature 3(TIL)', 'Feature 4(TIL)', 'Feature 5(TIL)', 'Feature 6(TIL)', 'Feature 7(TIL)', 'Feature 8(Collagen)', 'Feature 9(Collagen)', 'Feature 10(Collagen)', 'Feature 11(Collagen)', 'Feature 12(Collagen)', 'Feature 13(Collagen)', 'Feature 14(Collagen)', 'Feature 15(Collagen)', 'Feature 16(Collagen)', 'Feature 17(Collagen)', 'Feature 18(Collagen)', 'Feature 19(Collagen)', 'Feature 20(Collagen)', 'Feature 21(Collagen)', 'Feature 22(Collagen)', 'Feature 23(Collagen)', 'Feature 24(Collagen)', 'Feature 25(Collagen)', 'Feature 26(Collagen)', 'Feature 27(Collagen)', 'Feature 28(Collagen)', 'Feature 29(Collagen)', 'Feature 30(Collagen)', 'Feature 31(Collagen)', 'Feature 32(Collagen)', 'Feature 33(Collagen)', 'Feature 34(Collagen)', 'OS', 'OS_event', 'PFS', 'PFS_event', 'Age', 'Stage', 'Tumor grade', 'Risk score', 'Binary risk score']\n",
      "95\n",
      "95\n",
      "95\n",
      "95\n"
     ]
    }
   ],
   "source": [
    "# training: 95 TCGA ovarian cancer cases treated with chemotherapy \n",
    "# this block consists of four variables: train_features, train_y, train_event, train_survival_time loaded from data.csv\n",
    "# train_features: 34 features used, combination of collagen and til\n",
    "# train_y: each value in the array is (event, survival_time) where event is 'True' (if death or reccurence occured) or 'False' (no event occured) and survival time is the time from disease being diagnosed to event\n",
    "# train_event: event is 'True' (if death or reccurence occured) or 'False' (no event occured)\n",
    "# train_survival_time: survival time is the time from disease being diagnosed to event\n",
    "train_features = []\n",
    "train_y = []\n",
    "train_event = []\n",
    "train_survival_time = []\n",
    "\n",
    "flag = -1\n",
    "with open(\"../data/data.csv\", newline='', encoding = \"ISO-8859-1\") as csvfile:\n",
    "    spamreader = csv.reader(csvfile)\n",
    "    for row in spamreader:\n",
    "        if flag == -1:\n",
    "            flag = 1\n",
    "            print(row)\n",
    "        else:\n",
    "            array = row\n",
    "            if array[1] == \"Train\":\n",
    "                f = []\n",
    "                for index in range(6, 40):\n",
    "                    f.append(float(array[index]))\n",
    "                train_features.append(f)\n",
    "                \n",
    "                event = False\n",
    "                if array[41] == \"TRUE\" or array[41] == \"True\" or array[41] == \"true\":\n",
    "                    event = True\n",
    "                train_y.append([event, float(array[40])])\n",
    "                train_event.append(event)\n",
    "                train_survival_time.append(float(array[40]))\n",
    "print(len(train_features))\n",
    "print(len(train_y))\n",
    "print(len(train_event))\n",
    "print(len(train_survival_time))"
   ]
  },
  {
   "cell_type": "code",
   "execution_count": 3,
   "id": "8fb55c91",
   "metadata": {},
   "outputs": [],
   "source": [
    "# this block basically converts the four variables created in previous block to numpy arrays \n",
    "# which will be used for training the model\n",
    "train_features = np.array(train_features)\n",
    "train_y = np.array(train_y)\n",
    "train_event = np.array(train_event)\n",
    "train_survival_time = np.array(train_survival_time)"
   ]
  },
  {
   "cell_type": "code",
   "execution_count": 4,
   "id": "1225e368",
   "metadata": {},
   "outputs": [
    {
     "name": "stdout",
     "output_type": "stream",
     "text": [
      "['Patient ID', 'Data split', 'Organ', 'Site', 'Treatment', 'Vital status', 'Feature 1(TIL)', 'Feature 2(TIL)', 'Feature 3(TIL)', 'Feature 4(TIL)', 'Feature 5(TIL)', 'Feature 6(TIL)', 'Feature 7(TIL)', 'Feature 8(Collagen)', 'Feature 9(Collagen)', 'Feature 10(Collagen)', 'Feature 11(Collagen)', 'Feature 12(Collagen)', 'Feature 13(Collagen)', 'Feature 14(Collagen)', 'Feature 15(Collagen)', 'Feature 16(Collagen)', 'Feature 17(Collagen)', 'Feature 18(Collagen)', 'Feature 19(Collagen)', 'Feature 20(Collagen)', 'Feature 21(Collagen)', 'Feature 22(Collagen)', 'Feature 23(Collagen)', 'Feature 24(Collagen)', 'Feature 25(Collagen)', 'Feature 26(Collagen)', 'Feature 27(Collagen)', 'Feature 28(Collagen)', 'Feature 29(Collagen)', 'Feature 30(Collagen)', 'Feature 31(Collagen)', 'Feature 32(Collagen)', 'Feature 33(Collagen)', 'Feature 34(Collagen)', 'OS', 'OS_event', 'PFS', 'PFS_event', 'Age', 'Stage', 'Tumor grade', 'Risk score', 'Binary risk score']\n",
      "30\n",
      "30\n",
      "30\n",
      "30\n",
      "30\n",
      "30\n"
     ]
    }
   ],
   "source": [
    "# validation: 30 MSKCC cases treated with chemotherapy after surgery\n",
    "# this block consists of four variables: train_features, train_y, train_event, train_survival_time loaded from data.csv\n",
    "# train_features: 34 features used, combination of collagen and til\n",
    "# train_y: each value in the array is (event, survival_time) where event is 'True' (if death or reccurence occured) or 'False' (no event occured) and survival time is the time from disease being diagnosed to event\n",
    "# train_event: event is 'True' (if death or reccurence occured) or 'False' (no event occured)\n",
    "# train_survival_time: survival time is the time from disease being diagnosed to event\n",
    "test_features = []\n",
    "test_y = []\n",
    "test_event = []\n",
    "test_survival_time = []\n",
    "test_clinical_var_age = []\n",
    "test_clinical_var_stage = []\n",
    "\n",
    "flag = -1\n",
    "with open(\"../data/data.csv\", newline='', encoding = \"ISO-8859-1\") as csvfile:\n",
    "    spamreader = csv.reader(csvfile)\n",
    "    for row in spamreader:\n",
    "        if flag == -1:\n",
    "            flag = 1\n",
    "            print(row)\n",
    "        else:\n",
    "            array = row\n",
    "            if array[1] == \"Validation\" and array[3] == \"MSKCC\":\n",
    "                f = []\n",
    "                for index in range(6, 40):\n",
    "                    f.append(float(array[index]))\n",
    "                test_features.append(f)\n",
    "                \n",
    "                event = False\n",
    "                if array[43] == \"TRUE\" or array[43] == \"True\" or array[43] == \"true\":\n",
    "                    event = True\n",
    "                test_y.append([event, float(array[42])])\n",
    "                test_event.append(event)\n",
    "                test_survival_time.append(float(array[42]))\n",
    "                test_clinical_var_age.append(float(array[44]))\n",
    "                test_clinical_var_stage.append(float(array[45]))\n",
    "print(len(test_features))\n",
    "print(len(test_y))\n",
    "print(len(test_event))\n",
    "print(len(test_survival_time))\n",
    "print(len(test_clinical_var_age))\n",
    "print(len(test_clinical_var_stage))"
   ]
  },
  {
   "cell_type": "code",
   "execution_count": 5,
   "id": "d25717d2",
   "metadata": {},
   "outputs": [
    {
     "name": "stdout",
     "output_type": "stream",
     "text": [
      "60.730823636778474\n"
     ]
    }
   ],
   "source": [
    "print(np.mean(test_clinical_var_age))"
   ]
  },
  {
   "cell_type": "code",
   "execution_count": 6,
   "id": "7d14b827",
   "metadata": {},
   "outputs": [
    {
     "name": "stdout",
     "output_type": "stream",
     "text": [
      "18\n"
     ]
    }
   ],
   "source": [
    "count = 0\n",
    "for index in range(0, len(test_event)):\n",
    "    if test_event[index] == False:\n",
    "        count += 1\n",
    "print(count)"
   ]
  },
  {
   "cell_type": "code",
   "execution_count": 7,
   "id": "ced24160",
   "metadata": {},
   "outputs": [
    {
     "name": "stdout",
     "output_type": "stream",
     "text": [
      "0\n"
     ]
    }
   ],
   "source": [
    "count = 0\n",
    "for index in range(0, len(test_clinical_var_stage)):\n",
    "    if test_clinical_var_stage[index] == 1.0:\n",
    "        count += 1\n",
    "print(count)"
   ]
  },
  {
   "cell_type": "code",
   "execution_count": 8,
   "id": "af4ffd1a",
   "metadata": {},
   "outputs": [
    {
     "name": "stdout",
     "output_type": "stream",
     "text": [
      "Test: 0.6428571428571429\n",
      "Train: 0.7264375637972099\n"
     ]
    }
   ],
   "source": [
    "# running survival model using the train and validation dataset defined above\n",
    "# this block has four major variables: train_group, train_risk_scores, group, test_risk_scores\n",
    "# train_group: binary risk score 1 or 0 for train dataset. 1: high risk group and 0: low risk group\n",
    "# test_group: binary risk score 1 or 0 for test dataset. 1: high risk group and 0: low risk group\n",
    "# train_risk_scores: risk scores for train dataset\n",
    "# test_risk_scores: risk scores for test dataset\n",
    "group = []\n",
    "train_group = []\n",
    "features_train = train_features\n",
    "features_test = test_features\n",
    "y_train = train_y\n",
    "event_train, survival_time_train = train_event, train_survival_time\n",
    "dt = dtype=[('Status', '?'), ('Survival_in_days', '<f8')]\n",
    "y_train = np.array([tuple(row) for row in y_train], dtype=dt)\n",
    "scaler = MinMaxScaler()\n",
    "features_train = scaler.fit_transform(features_train)\n",
    "features_test = scaler.transform(features_test)\n",
    "features_train_df = pd.DataFrame(features_train)\n",
    "features_test_df = pd.DataFrame(features_test)\n",
    "        \n",
    "\n",
    "estimator = CoxnetSurvivalAnalysis(l1_ratio=0.9, alpha_min_ratio=0.1)\n",
    "#estimator = CoxPHSurvivalAnalysis()\n",
    "estimator.fit(features_train_df, y_train)\n",
    "\n",
    "score, _, _, _, _ = concordance_index_censored(test_event, test_survival_time, estimator.predict(features_test_df))\n",
    "print(\"Test: \" + str(score))\n",
    "score, _, _, _, _ = concordance_index_censored(train_event, train_survival_time, estimator.predict(features_train_df))\n",
    "print(\"Train: \" + str(score))\n",
    "\n",
    "# get risk scores\n",
    "train_risk_scores = estimator.predict(features_train_df)\n",
    "test_risk_scores = estimator.predict(features_test_df)\n",
    "\n",
    "median = np.mean(train_risk_scores)\n",
    "count_low = 0\n",
    "count_high = 0\n",
    "for index in range(0, len(train_risk_scores)):\n",
    "    if train_risk_scores[index] > median:\n",
    "        count_high += 1\n",
    "        train_group.append(1)\n",
    "    else:\n",
    "        count_low += 1\n",
    "        train_group.append(0)\n",
    "\n",
    "count_low = 0\n",
    "count_high = 0\n",
    "for index in range(0, len(test_risk_scores)):\n",
    "    if test_risk_scores[index] > median:\n",
    "        count_high += 1\n",
    "        group.append(1)\n",
    "    else:\n",
    "        count_low += 1\n",
    "        group.append(0)"
   ]
  },
  {
   "cell_type": "markdown",
   "id": "6e0a4f51",
   "metadata": {},
   "source": [
    "# RandomSurvivalForest\n",
    "group = []\n",
    "train_group = []\n",
    "features_train = train_features\n",
    "features_test = test_features\n",
    "y_train = train_y\n",
    "event_train, survival_time_train = train_event, train_survival_time\n",
    "dt = dtype=[('Status', '?'), ('Survival_in_days', '<f8')]\n",
    "y_train = np.array([tuple(row) for row in y_train], dtype=dt)\n",
    "scaler = MinMaxScaler()\n",
    "features_train = scaler.fit_transform(features_train)\n",
    "features_test = scaler.transform(features_test)\n",
    "features_train_df = pd.DataFrame(features_train)\n",
    "features_test_df = pd.DataFrame(features_test)\n",
    "\n",
    "estimator = RandomSurvivalForest(n_estimators=10).fit(features_train_df, y_train)\n",
    "score, _, _, _, _ = concordance_index_censored(test_event, test_survival_time, estimator.predict(features_test_df))\n",
    "print(\"Test: \" + str(score))\n",
    "score, _, _, _, _ = concordance_index_censored(train_event, train_survival_time, estimator.predict(features_train_df))\n",
    "print(\"Train: \" + str(score))\n",
    "\n",
    "train_risk_scores = estimator.predict(features_train_df)\n",
    "test_risk_scores = estimator.predict(features_test_df)\n",
    "\n",
    "median = np.mean(train_risk_scores)\n",
    "count_low = 0\n",
    "count_high = 0\n",
    "for index in range(0, len(train_risk_scores)):\n",
    "    if train_risk_scores[index] > median:\n",
    "        count_high += 1\n",
    "        train_group.append(1)\n",
    "    else:\n",
    "        count_low += 1\n",
    "        train_group.append(0)\n",
    "\n",
    "count_low = 0\n",
    "count_high = 0\n",
    "for index in range(0, len(test_risk_scores)):\n",
    "    if test_risk_scores[index] > median:\n",
    "        count_high += 1\n",
    "        group.append(1)\n",
    "    else:\n",
    "        count_low += 1\n",
    "        group.append(0)"
   ]
  },
  {
   "cell_type": "markdown",
   "id": "a2c4fe96",
   "metadata": {},
   "source": [
    "# HingeLossSurvivalSVM\n",
    "group = []\n",
    "train_group = []\n",
    "features_train = train_features\n",
    "features_test = test_features\n",
    "y_train = train_y\n",
    "event_train, survival_time_train = train_event, train_survival_time\n",
    "dt = dtype=[('Status', '?'), ('Survival_in_days', '<f8')]\n",
    "y_train = np.array([tuple(row) for row in y_train], dtype=dt)\n",
    "scaler = MinMaxScaler()\n",
    "features_train = scaler.fit_transform(features_train)\n",
    "features_test = scaler.transform(features_test)\n",
    "features_train_df = pd.DataFrame(features_train)\n",
    "features_test_df = pd.DataFrame(features_test)\n",
    "\n",
    "estimator = HingeLossSurvivalSVM().fit(features_train_df, y_train)\n",
    "score, _, _, _, _ = concordance_index_censored(test_event, test_survival_time, estimator.predict(features_test_df))\n",
    "print(\"Test: \" + str(score))\n",
    "score, _, _, _, _ = concordance_index_censored(train_event, train_survival_time, estimator.predict(features_train_df))\n",
    "print(\"Train: \" + str(score))\n",
    "\n",
    "train_risk_scores = estimator.predict(features_train_df)\n",
    "test_risk_scores = estimator.predict(features_test_df)\n",
    "\n",
    "median = np.mean(train_risk_scores)\n",
    "count_low = 0\n",
    "count_high = 0\n",
    "for index in range(0, len(train_risk_scores)):\n",
    "    if train_risk_scores[index] > median:\n",
    "        count_high += 1\n",
    "        train_group.append(1)\n",
    "    else:\n",
    "        count_low += 1\n",
    "        train_group.append(0)\n",
    "\n",
    "count_low = 0\n",
    "count_high = 0\n",
    "for index in range(0, len(test_risk_scores)):\n",
    "    if test_risk_scores[index] > median:\n",
    "        count_high += 1\n",
    "        group.append(1)\n",
    "    else:\n",
    "        count_low += 1\n",
    "        group.append(0)"
   ]
  },
  {
   "cell_type": "code",
   "execution_count": 9,
   "id": "b7a572f1",
   "metadata": {},
   "outputs": [
    {
     "name": "stdout",
     "output_type": "stream",
     "text": [
      "1; 1; 0; 0; 1; 0; 0; 1; 1; 0; 0; 0; 0; 1; 0; 0; 1; 1; 0; 1; 1; 0; 0; 1; 0; 0; 0; 1; 0; 0\n",
      "410.12039415; 1864.09245165; 483.3203667000001; 431.1779205; 1095.99410955; 408.11491544999996; 330.9039855; 339.92863965; 253.69305554999997; 408.11491544999996; 304.8327624; 309.84645915000004; 666.82166775; 393.0738252; 371.01355949999993; 800.1860013; 630.72305115; 406.10943675000004; 348.9532938; 1049.86809945; 605.6545673999999; 856.3394049; 534.4600735500001; 322.8820707; 540.47650965; 501.369675; 903.46815435; 677.8518006; 233.63826854999996; 358.9806873\n",
      "1; 0; 1; 1; 0; 1; 1; 1; 1; 1; 1; 1; 1; 1; 1; 0; 1; 1; 1; 1; 1; 1; 1; 1; 1; 1; 1; 1; 1; 1\n"
     ]
    }
   ],
   "source": [
    "# this block prints values for variables 'test_event', 'test_survival_time' and 'group' defined above\n",
    "# these values are used in the 'univariate.m' script to find the corresponding HR, p-values and 95% CI\n",
    "# univariate analysis: CollaTIL features\n",
    "a = []\n",
    "for index in range(0, len(test_event)):\n",
    "    if test_event[index] == False:\n",
    "        a.append(0)\n",
    "    else:\n",
    "        a.append(1)\n",
    "print(*a, sep=\"; \")\n",
    "\n",
    "print(*test_survival_time, sep=\"; \")\n",
    "\n",
    "print(*group, sep=\"; \")"
   ]
  },
  {
   "cell_type": "code",
   "execution_count": 11,
   "id": "1838bc2a",
   "metadata": {},
   "outputs": [
    {
     "name": "stdout",
     "output_type": "stream",
     "text": [
      "1; 1; 1; 1; 1; 1; 1; 1; 1; 1; 1; 1; 1; 1; 1; 1; 1; 1; 1; 1; 1; 1; 1; 1; 1; 1; 1; 1; 1; 1\n"
     ]
    }
   ],
   "source": [
    "t = []\n",
    "for index in range(0, len(test_clinical_var_stage)):\n",
    "    if test_clinical_var_stage[index] > 2:\n",
    "        t.append(1)\n",
    "    else:\n",
    "        t.append(0)\n",
    "print(*t, sep=\"; \")"
   ]
  },
  {
   "cell_type": "code",
   "execution_count": null,
   "id": "91996d34",
   "metadata": {},
   "outputs": [],
   "source": [
    "# this block prints the indexes of prognostic features found from the trained model\n",
    "# we will see the model finding 14 features, 6 from TIL and 8 from Collagen being predictive of OS\n",
    "count = 0\n",
    "for index1 in range(0, len(estimator.coef_)):\n",
    "    flag = -1\n",
    "    for index2 in range(99, 100):\n",
    "        if estimator.coef_[index1][index2] > 0 or estimator.coef_[index1][index2] < 0:\n",
    "            flag = 1\n",
    "            print(str(index1) + \" \" + str(estimator.coef_[index1][index2]))\n",
    "            break\n",
    "    if flag == 1:\n",
    "        count += 1\n",
    "print()\n",
    "print(\"Prognostic features count = \" + str(count))"
   ]
  },
  {
   "cell_type": "code",
   "execution_count": null,
   "id": "626f9e95",
   "metadata": {},
   "outputs": [],
   "source": []
  },
  {
   "cell_type": "code",
   "execution_count": null,
   "id": "3328791b",
   "metadata": {
    "scrolled": true
   },
   "outputs": [],
   "source": [
    "# this block prints values for variables 'test_event', 'test_survival_time' and 'group' defined above\n",
    "# these values are used in the 'univariate.m' script to find the corresponding HR, p-values and 95% CI\n",
    "# univariate analysis: CollaTIL features\n",
    "a = []\n",
    "for index in range(0, len(test_event)):\n",
    "    if test_event[index] == False:\n",
    "        a.append(0)\n",
    "    else:\n",
    "        a.append(1)\n",
    "print(*a, sep=\"; \")\n",
    "\n",
    "print(*test_survival_time, sep=\"; \")\n",
    "\n",
    "g_1 = []\n",
    "for index in range(0, len(test_clinical_var_age)):\n",
    "    if test_clinical_var_age[index] > 60:\n",
    "        g_1.append(1)\n",
    "    else:\n",
    "        g_1.append(0)\n",
    "print(*g_1, sep=\"; \")"
   ]
  },
  {
   "cell_type": "code",
   "execution_count": null,
   "id": "281e8f4f",
   "metadata": {},
   "outputs": [],
   "source": []
  },
  {
   "cell_type": "code",
   "execution_count": null,
   "id": "9b92fae0",
   "metadata": {},
   "outputs": [],
   "source": [
    "# this block prints values for variables 'test_event', 'test_survival_time' and 'group' defined above\n",
    "# these values are used in the 'univariate.m' script to find the corresponding HR, p-values and 95% CI\n",
    "# univariate analysis: CollaTIL features\n",
    "a = []\n",
    "for index in range(0, len(test_event)):\n",
    "    if test_event[index] == False:\n",
    "        a.append(0)\n",
    "    else:\n",
    "        a.append(1)\n",
    "print(*a, sep=\"; \")\n",
    "\n",
    "print(*test_survival_time, sep=\"; \")\n",
    "\n",
    "g_2 = []\n",
    "for index in range(0, len(test_clinical_var_stage)):\n",
    "    if test_clinical_var_stage[index] == 1 or test_clinical_var_stage[index] == 2:\n",
    "        g_2.append(0)\n",
    "    else:\n",
    "        g_2.append(1)\n",
    "print(*g_2, sep=\"; \")"
   ]
  },
  {
   "cell_type": "code",
   "execution_count": null,
   "id": "890f26fb",
   "metadata": {},
   "outputs": [],
   "source": []
  },
  {
   "cell_type": "code",
   "execution_count": null,
   "id": "6e1b3da9",
   "metadata": {},
   "outputs": [],
   "source": [
    "# this block prints values for variables 'test_event', 'test_survival_time' and 'group' defined above\n",
    "# these values are used in the 'univariate.m' script to find the corresponding HR, p-values and 95% CI\n",
    "# multivariable analysis - age, stage, collatil\n",
    "a = []\n",
    "for index in range(0, len(test_event)):\n",
    "    if test_event[index] == False:\n",
    "        a.append(0)\n",
    "    else:\n",
    "        a.append(1)\n",
    "print(*a, sep=\"; \")\n",
    "\n",
    "print(*test_survival_time, sep=\"; \")\n",
    "\n",
    "g_1 = []\n",
    "for index in range(0, len(test_clinical_var_age)):\n",
    "    if test_clinical_var_age[index] > 60:\n",
    "        g_1.append(1)\n",
    "    else:\n",
    "        g_1.append(0)\n",
    "g_2 = []\n",
    "for index in range(0, len(test_clinical_var_stage)):\n",
    "    if test_clinical_var_stage[index] == 1 or test_clinical_var_stage[index] == 2:\n",
    "        g_2.append(np.abs(test_clinical_var_stage[index]))\n",
    "    else:\n",
    "        g_2.append(np.abs(test_clinical_var_stage[index]))\n",
    "g = []\n",
    "for index in range(0, len(group)):\n",
    "    g.append([g_1[index], g_2[index], group[index]])\n",
    "print(*g, sep=\"; \")"
   ]
  },
  {
   "cell_type": "code",
   "execution_count": null,
   "id": "ee81119d",
   "metadata": {},
   "outputs": [],
   "source": []
  }
 ],
 "metadata": {
  "kernelspec": {
   "display_name": "Python 3",
   "language": "python",
   "name": "python3"
  },
  "language_info": {
   "codemirror_mode": {
    "name": "ipython",
    "version": 3
   },
   "file_extension": ".py",
   "mimetype": "text/x-python",
   "name": "python",
   "nbconvert_exporter": "python",
   "pygments_lexer": "ipython3",
   "version": "3.8.8"
  }
 },
 "nbformat": 4,
 "nbformat_minor": 5
}
